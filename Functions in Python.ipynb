{
 "cells": [
  {
   "cell_type": "code",
   "execution_count": 9,
   "id": "361708fb-896c-459c-9c9f-4fc75de4f12b",
   "metadata": {},
   "outputs": [
    {
     "name": "stdout",
     "output_type": "stream",
     "text": [
      "Hello, Alice! The current time is 2024-11-28 12:20:30.\n"
     ]
    }
   ],
   "source": [
    "#qQuestion 1 \n",
    "from datetime import datetime\n",
    "\n",
    "def greet_with_time(name):\n",
    "    \"\"\"Prints a greeting message with the current time.\"\"\"\n",
    "    current_time = datetime.now().strftime(\"%Y-%m-%d %H:%M:%S\")\n",
    "    print(f\"Hello, {name}! The current time is {current_time}.\")\n",
    "\n",
    "greet_with_time(\"Alice\")"
   ]
  },
  {
   "cell_type": "code",
   "execution_count": 15,
   "id": "c71c8135-c61a-4fd5-8feb-762e81b79002",
   "metadata": {},
   "outputs": [
    {
     "name": "stdout",
     "output_type": "stream",
     "text": [
      "The average is: 53.0\n"
     ]
    }
   ],
   "source": [
    "#Question 2\n",
    "def calculate_average(num1, num2, num3):\n",
    "    \"\"\"Calculates and returns the average of three numbers.\"\"\"\n",
    "    average = (num1 + num2 + num3) / 3\n",
    "    return average\n",
    "\n",
    "result = calculate_average(6, 99,54)\n",
    "print(f\"The average is: {result}\")"
   ]
  },
  {
   "cell_type": "code",
   "execution_count": 19,
   "id": "aaffd7ca-dd31-4e23-ae9e-56ed9a7589fe",
   "metadata": {},
   "outputs": [
    {
     "name": "stdout",
     "output_type": "stream",
     "text": [
      "72.0\n"
     ]
    }
   ],
   "source": [
    "#Question 3\n",
    "def calculate_discount(price, discount_percentage=10):\n",
    "    return price - (price * discount_percentage / 100)\n",
    "\n",
    "print(calculate_discount(80))"
   ]
  },
  {
   "cell_type": "code",
   "execution_count": 12,
   "id": "d83f17a8-93c5-4fcf-b13e-b5f72ff17000",
   "metadata": {},
   "outputs": [
    {
     "name": "stdout",
     "output_type": "stream",
     "text": [
      "Name: SAMIA MUNEER\n",
      "Age: 19\n",
      "City: GUJRANWALA\n"
     ]
    }
   ],
   "source": [
    "#Question 4\n",
    "def print_info(name, age, city):\n",
    "    print(f\"Name: {name}\")\n",
    "    print(f\"Age: {age}\")\n",
    "    print(f\"City: {city}\")\n",
    "\n",
    "print_info(name=\"SAMIA MUNEER\", age=19, city=\"GUJRANWALA\")"
   ]
  },
  {
   "cell_type": "code",
   "execution_count": 23,
   "id": "5eb2f82d-e680-4e78-b06e-d7c5f2da7199",
   "metadata": {},
   "outputs": [
    {
     "name": "stdout",
     "output_type": "stream",
     "text": [
      "30\n",
      "3\n"
     ]
    }
   ],
   "source": [
    "#Question 5\n",
    "def find_max(*args):\n",
    "    return max(args)\n",
    "\n",
    "print(find_max(10, 25, 30, 5))  \n",
    "print(find_max(1, 3, -2, 0))    "
   ]
  },
  {
   "cell_type": "code",
   "execution_count": 16,
   "id": "9baf408f-3c2e-4b52-8eb0-6d0e3e3826f2",
   "metadata": {},
   "outputs": [
    {
     "name": "stdout",
     "output_type": "stream",
     "text": [
      "The factorial of 5 is: 120\n"
     ]
    }
   ],
   "source": [
    "#Question 6\n",
    "def factorial(n):\n",
    "    if n == 0 or n == 1:\n",
    "        return 1\n",
    "    return n * factorial(n - 1)\n",
    "result = factorial(5)\n",
    "print(f\"The factorial of 5 is: {result}\")"
   ]
  },
  {
   "cell_type": "code",
   "execution_count": 4,
   "id": "740a38d5-9da8-435d-a14f-c70554e6f5d2",
   "metadata": {},
   "outputs": [
    {
     "name": "stdout",
     "output_type": "stream",
     "text": [
      "Result: [1, 4, 9, 16, 25]\n"
     ]
    }
   ],
   "source": [
    "#QUESTION 7\n",
    "def apply_function(func, numbers):\n",
    "    return [func(num) for num in numbers]\n",
    "def square(x):\n",
    "    return x ** 2\n",
    "\n",
    "result = apply_function(square, [1, 2, 3, 4, 5])\n",
    "print(f\"Result: {result}\")"
   ]
  },
  {
   "cell_type": "code",
   "execution_count": 6,
   "id": "c2f57b33-6d65-4661-aec9-528cd1a82a1e",
   "metadata": {},
   "outputs": [
    {
     "name": "stdout",
     "output_type": "stream",
     "text": [
      "The square of 6 is: 36\n"
     ]
    }
   ],
   "source": [
    "#QUESTION 8\n",
    "square = lambda x: x ** 2\n",
    "result = square(6)\n",
    "print(f\"The square of 6 is: {result}\")"
   ]
  },
  {
   "cell_type": "code",
   "execution_count": 8,
   "id": "f839ecfc-c2ff-4957-9ff5-8c55f4da4310",
   "metadata": {},
   "outputs": [
    {
     "name": "stdout",
     "output_type": "stream",
     "text": [
      "Result: [2, 4, 6, 8, 10]\n"
     ]
    }
   ],
   "source": [
    "#QUESTION 9\n",
    "def apply_operation(func, numbers):\n",
    "    return [func(num) for num in numbers]\n",
    "def double(x):\n",
    "    return x * 2\n",
    "\n",
    "result = apply_operation(double, [1, 2, 3, 4, 5])\n",
    "print(f\"Result: {result}\")"
   ]
  },
  {
   "cell_type": "code",
   "execution_count": 10,
   "id": "7517f849-bbf9-4e13-aa32-efd1aa943041",
   "metadata": {},
   "outputs": [
    {
     "name": "stdout",
     "output_type": "stream",
     "text": [
      "Execution time of example_function: 0.031242 seconds\n",
      "Result: 27377883000\n"
     ]
    }
   ],
   "source": [
    "#Question:10\n",
    "import time\n",
    "def time_it(func):\n",
    "    def wrapper(*args, **kwargs):\n",
    "        start_time = time.time() \n",
    "        result = func(*args, **kwargs)  \n",
    "        end_time = time.time()  \n",
    "        execution_time = end_time - start_time  \n",
    "        print(f\"Execution time of {func.__name__}: {execution_time:.6f} seconds\")\n",
    "        return result  \n",
    "    return wrapper\n",
    "\n",
    "@time_it\n",
    "def example_function(n):\n",
    "    total = 0\n",
    "    for i in range(n):\n",
    "        total += i\n",
    "    return total\n",
    "\n",
    "\n",
    "result = example_function(234000)\n",
    "print(f\"Result: {result}\")"
   ]
  },
  {
   "cell_type": "code",
   "execution_count": null,
   "id": "de5249ed-83f8-4a6b-bcde-bd0af63227aa",
   "metadata": {},
   "outputs": [],
   "source": []
  }
 ],
 "metadata": {
  "kernelspec": {
   "display_name": "Python 3 (ipykernel)",
   "language": "python",
   "name": "python3"
  },
  "language_info": {
   "codemirror_mode": {
    "name": "ipython",
    "version": 3
   },
   "file_extension": ".py",
   "mimetype": "text/x-python",
   "name": "python",
   "nbconvert_exporter": "python",
   "pygments_lexer": "ipython3",
   "version": "3.12.4"
  }
 },
 "nbformat": 4,
 "nbformat_minor": 5
}
